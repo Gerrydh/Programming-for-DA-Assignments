{
 "cells": [
  {
   "cell_type": "markdown",
   "metadata": {},
   "source": [
    "# A Review of the Numpy.Random Package in Python\n",
    "\n",
    "from IPython.display import HTML, display\n",
    "display(HTML(\"<table><tr><td><img src=\"Numpy.png\" Width=\"600\"></td><td><img src=\"Python.png\" Width=\"350\"></td></tr></table></td><td>\"))"
   ]
  },
  {
   "cell_type": "markdown",
   "metadata": {},
   "source": [
    "# What is Numpy"
   ]
  },
  {
   "cell_type": "markdown",
   "metadata": {},
   "source": [
    "Numpy is and acronym for \"numerical Python\" and is a really important package as a lot of other packages depend on it. Numpy and Scipy work really well in Python. Scipy provies the basic numeric optimisation routines. Pandas lets us load and work with our dataset efficiently [1].\n",
    "It is an open source extension model and provides speedy precompiled abilities to logical and numerical calendars and data structures that are capable of estimation of multi-dimensional arrays (N-dimensional) and grids [2]. This is a fixed-sized array in memory that contains data of the same type, such as integers or floating point values (real numbers). The Data type supported by an array can be accessed via the 'dtype' attribute on the array. The dimensions of an array can be accessed via the 'shape' attribute that returns a tuple (a list that cannot be changed) [3]. Numpy provides the following- amongst other things [4]:\n",
    "\n",
    "1. Fast and efficient multidimensional array object ndarray\n",
    "1. Functions for performing element-wise computations with arrays or mathematical operations between arrays\n",
    "1. Tools for reading and writting array-based dataset to disks\n",
    "1. Tools for integrating connecting C, C++ code to Python\n",
    "\n",
    "Scipy is a collection of mathematical algorithims and functions built on the Numpy extension of python. It adds significant power to the interactive Python session by providing the user "
   ]
  },
  {
   "cell_type": "code",
   "execution_count": 1,
   "metadata": {},
   "outputs": [],
   "source": [
    "import numpy as np"
   ]
  },
  {
   "cell_type": "code",
   "execution_count": 2,
   "metadata": {},
   "outputs": [],
   "source": [
    "import matplotlib.pyplot as plt"
   ]
  },
  {
   "cell_type": "markdown",
   "metadata": {},
   "source": [
    "# 1. np.random.randint\n",
    "\n",
    "The random.randit function returns random integers (whole numbers). The integer parameters must first be high to low, meaning the range of random integers you want returned needs to have the lowest integer first and the highest integer second, if it is the other way around the function will return an error. The size element of the function relates to the number of random integers that should be returned. \n",
    "\n",
    "In the code below, I have asked the randint function to return 25 random whole numbers between 10 and 999. \n",
    "\n",
    "The second snippit of code returned the same number random of integers, but becuase I asked for the random numbers to be between 0 and 1, it has returned the integers 0 and 1 twenty five times."
   ]
  },
  {
   "cell_type": "code",
   "execution_count": 3,
   "metadata": {},
   "outputs": [
    {
     "data": {
      "text/plain": [
       "array([[[941, 399, 567, 414, 910]],\n",
       "\n",
       "       [[316, 308,  17, 786,  17]],\n",
       "\n",
       "       [[706, 533, 949, 238,  11]],\n",
       "\n",
       "       [[ 14, 815, 155, 770, 521]],\n",
       "\n",
       "       [[287, 980, 924,  69, 173]]])"
      ]
     },
     "execution_count": 3,
     "metadata": {},
     "output_type": "execute_result"
    }
   ],
   "source": [
    "np.random.randint(10, 1000, size=(5,1,5))"
   ]
  },
  {
   "cell_type": "code",
   "execution_count": 4,
   "metadata": {},
   "outputs": [
    {
     "data": {
      "text/plain": [
       "array([[[1, 0, 0, 0, 0]],\n",
       "\n",
       "       [[0, 1, 0, 1, 0]],\n",
       "\n",
       "       [[1, 1, 0, 0, 1]],\n",
       "\n",
       "       [[1, 1, 0, 1, 1]],\n",
       "\n",
       "       [[1, 0, 0, 0, 0]]])"
      ]
     },
     "execution_count": 4,
     "metadata": {},
     "output_type": "execute_result"
    }
   ],
   "source": [
    "np.random.randint(0, 2, size=(5,1,5))"
   ]
  },
  {
   "cell_type": "markdown",
   "metadata": {},
   "source": [
    "### Randint Histogram\n",
    "The below code and histogram shows the number of times that an integer was randomly selected. The *X* axis is the integer from 0 - 999, and the *Y* axis is the number of time the integer was selected."
   ]
  },
  {
   "cell_type": "code",
   "execution_count": 43,
   "metadata": {},
   "outputs": [
    {
     "data": {
      "image/png": "[encoded data removed]",
      "text/plain": [
       "<Figure size 432x288 with 1 Axes>"
      ]
     },
     "metadata": {
      "needs_background": "light"
     },
     "output_type": "display_data"
    }
   ],
   "source": [
    "x = np.random.randint(0, 1000, size=(1000))\n",
    "plt.hist(x)\n",
    "plt.show()"
   ]
  },
  {
   "cell_type": "markdown",
   "metadata": {},
   "source": [
    "# 2. np.random.chisquare\n",
    "\n",
    "The chi-squared distribution is used mainly in hypothesis testing. The reason it is used in this type of testing is its relationship to the normal distribution [5]. The variable is achieved by summing the squares of dataframe independent, standard normally distributed random variables [6]. The simpliest chi-squared distribution is the square of a standard normal distribution, so whenever a normal distribution could be used for a hypothesis test, a chi-squared distribution could be used [5].\n",
    "\n",
    "The mean of a Chi Square distribution is its degree of freedom (The number of independent ways by which a dynamic system can move, without violating any constraint imposed on it [7]). Chi Square distributions are positively skewed, with the degree of skew decreasing with increasing degrees of freedom [8]. "
   ]
  },
  {
   "cell_type": "code",
   "execution_count": 11,
   "metadata": {},
   "outputs": [
    {
     "data": {
      "text/plain": [
       "array([0.0936368 , 2.21161214])"
      ]
     },
     "execution_count": 11,
     "metadata": {},
     "output_type": "execute_result"
    }
   ],
   "source": [
    "np.random.chisquare(1,2)"
   ]
  },
  {
   "cell_type": "markdown",
   "metadata": {},
   "source": [
    "# 3. np.random.multinomial\n",
    "\n",
    "the difference between a Binomial and a Multinomial distribution, is that a binomial can have two outcomes, while a multinomial can have multiple outcomes. The most common example for a multinomial is that of rolling a dice where there are six possible outcomes. If you rolled a dice ten times to see how many times a four was rolled, then that would be a binomial experiment [9]."
   ]
  },
  {
   "cell_type": "code",
   "execution_count": 16,
   "metadata": {},
   "outputs": [
    {
     "data": {
      "text/plain": [
       "array([[4, 5, 2, 3, 3, 3],\n",
       "       [2, 3, 4, 3, 4, 4]])"
      ]
     },
     "execution_count": 16,
     "metadata": {},
     "output_type": "execute_result"
    }
   ],
   "source": [
    "np.random.multinomial(20, [1/6]*6, size=2)"
   ]
  },
  {
   "cell_type": "code",
   "execution_count": null,
   "metadata": {},
   "outputs": [],
   "source": []
  }
 ],
 "metadata": {
  "kernelspec": {
   "display_name": "Python 3",
   "language": "python",
   "name": "python3"
  },
  "language_info": {
   "codemirror_mode": {
    "name": "ipython",
    "version": 3
   },
   "file_extension": ".py",
   "mimetype": "text/x-python",
   "name": "python",
   "nbconvert_exporter": "python",
   "pygments_lexer": "ipython3",
   "version": "3.6.6"
  }
 },
 "nbformat": 4,
 "nbformat_minor": 2
}
