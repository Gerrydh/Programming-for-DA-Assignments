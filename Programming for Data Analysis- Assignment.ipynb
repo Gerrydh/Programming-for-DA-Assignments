{
 "cells": [
  {
   "cell_type": "markdown",
   "metadata": {},
   "source": [
    "# A Review of the NumPy.Random Package in Python\n",
    "\n",
    "<img src=\"numpy.jpg\" style=\"width:350px;height:175px;\" /><img src=\"python.jpg\" style=\"width:200px;height:200px;\" /><img src=\"scipy.jpg\" style=\"width:350px;height:175px;\" />\n"
   ]
  },
  {
   "cell_type": "markdown",
   "metadata": {},
   "source": [
    "---------------------------------------------------------------------------------------------------------------------------\n",
    "# 1. What is the NumPy package?\n",
    "\n",
    "NumPy is and acronym for \"numerical Python\" and is a important package as a lot of other packages depend on it. NumPy and SciPy work well in Python. Scipy provides the basic numeric optimisation routines. Pandas lets us load and work with our dataset efficiently [1].\n",
    "It is an open source extension model and provides speedy precompiled abilities to logical and numerical calendars and data structures that are capable of estimation of multi-dimensional arrays (N-dimensional) and grids [2]. This is a fixed-sized array in memory that contains data of the same type, such as integers or floating-point values (real numbers). The Data type supported by an array can be accessed via the 'dtype' attribute on the array. The dimensions of an array can be accessed via the 'shape' attribute that returns a tuple (a list that cannot be changed) [3]. Numpy provides the following- amongst other things [4]:\n",
    "\n",
    "1. Fast and efficient multidimensional array object ndarray\n",
    "1. Functions for performing element-wise computations with arrays or mathematical operations between arrays\n",
    "1. Tools for reading and writing array-based dataset to disks\n",
    "1. Tools for integrating connecting C, C++ code to Python\n",
    "\n",
    "SciPy is a free and open-source Python library and is used for scientific computing and technical computing. It contains modules for tasks used in science and engineering, including, linear algebra, integration and image processing, amongst many others. Scipy is also park of the NumPy stack [25].\n",
    "\n",
    "# 2.1 Simple random data\n",
    "\n",
    "A simple random sample is a subset of individuals chosen from a larger population. Each individual is chosen at random so as to give each individual the same probability of being chosen at any point [22]. Random sampling is popular as there is no need to divide the population into sub-populations, as the samples are selected completely at random. Random data in Python cannot be classed as fully random, scientifically. Data is generated with a pseudorandom number generator (PRNG) [23]. A PRNG is an algorithm for generating a sequence of numbers whose properties approximate the properties of sequences of random numbers [24].\n",
    "\n",
    "# 2.2 Permutations\n",
    "\n",
    "The permutations function in NumPy returns a random sequence from an array. It is an arrangement or ordering of the elements of an ordered list into a one-to-one mapping with itself. The permutation of a given arrangement is given by indicating the positions of the elements after re-arrangement [24].\n"
   ]
  },
  {
   "cell_type": "code",
   "execution_count": 6,
   "metadata": {},
   "outputs": [],
   "source": [
    "import numpy as np"
   ]
  },
  {
   "cell_type": "code",
   "execution_count": 7,
   "metadata": {},
   "outputs": [],
   "source": [
    "import matplotlib.pyplot as plt"
   ]
  },
  {
   "cell_type": "markdown",
   "metadata": {},
   "source": [
    "---------------------------------------------------------------------------------------------------------------------------\n",
    "# 3.1. np.random.randint\n",
    "\n",
    "The random.randit function returns random integers (whole numbers). The integer parameters must first be high to low, meaning the range of random integers you want returned needs to have the lowest integer first and the highest integer second, if it is the other way around the function will return an error. The size element of the function relates to the number of random integers that should be returned. \n",
    "\n",
    "In the code below, I have asked the randint function to return 25 random whole numbers between 10 and 999. \n",
    "\n",
    "The second snippet of code returned the same number random of integers, but because I asked for the random numbers to be between 0 and 1, it has returned the integers 0 and 1 twenty-five times.\n",
    "\n",
    "\n",
    "## **Randint in action in Python**"
   ]
  },
  {
   "cell_type": "code",
   "execution_count": 3,
   "metadata": {},
   "outputs": [
    {
     "data": {
      "text/plain": [
       "array([[[941, 399, 567, 414, 910]],\n",
       "\n",
       "       [[316, 308,  17, 786,  17]],\n",
       "\n",
       "       [[706, 533, 949, 238,  11]],\n",
       "\n",
       "       [[ 14, 815, 155, 770, 521]],\n",
       "\n",
       "       [[287, 980, 924,  69, 173]]])"
      ]
     },
     "execution_count": 3,
     "metadata": {},
     "output_type": "execute_result"
    }
   ],
   "source": [
    "np.random.randint(10, 1000, size=(5,1,5))"
   ]
  },
  {
   "cell_type": "code",
   "execution_count": 4,
   "metadata": {},
   "outputs": [
    {
     "data": {
      "text/plain": [
       "array([[[1, 0, 0, 0, 0]],\n",
       "\n",
       "       [[0, 1, 0, 1, 0]],\n",
       "\n",
       "       [[1, 1, 0, 0, 1]],\n",
       "\n",
       "       [[1, 1, 0, 1, 1]],\n",
       "\n",
       "       [[1, 0, 0, 0, 0]]])"
      ]
     },
     "execution_count": 4,
     "metadata": {},
     "output_type": "execute_result"
    }
   ],
   "source": [
    "np.random.randint(0, 2, size=(5,1,5))"
   ]
  },
  {
   "cell_type": "markdown",
   "metadata": {},
   "source": [
    "### Randint Histogram\n",
    "The below code and histogram shows the number of times that an integer was randomly selected. The *X* axis is the integer from 0 - 999, and the *Y* axis is the number of time the integer was selected."
   ]
  },
  {
   "cell_type": "code",
   "execution_count": 43,
   "metadata": {},
   "outputs": [
    {
     "data": {
      "image/png": "[encoded data removed]",
      "text/plain": [
       "<Figure size 432x288 with 1 Axes>"
      ]
     },
     "metadata": {
      "needs_background": "light"
     },
     "output_type": "display_data"
    }
   ],
   "source": [
    "x = np.random.randint(0, 1000, size=(1000))\n",
    "plt.hist(x)\n",
    "plt.show()"
   ]
  },
  {
   "cell_type": "markdown",
   "metadata": {},
   "source": [
    "___________________________________________________________________________________________________________________________\n",
    "# 3.2. np.random.binomial\n",
    "\n",
    "A binomial random variable is the number of successes *x* in *n* repeated trials. The probability distribution of a binomial random variable is a **binomial distribution** [16]. A binomial experiment can have two possible outcomes. Samples are drawn from a distribution with specified parameters, *n* trials and *p* probability of success where *n* is an integer greater than 0 and *p* is in the interval [0,1] [17]. \n",
    "\n",
    "## **Binomial applied**\n",
    "\n",
    "The binomial distribution has a very wide application, mainly because at its core it is a binary situation- one with two possible outcomes. Many random situations worth studying have two outcomes [18]. It can be applied to any experiment where you want to identify the number of successes in a fixed number of independent trials, with the fixed probability of success on each trial.\n",
    "\n",
    "## **Binomial distribution in action in Python**\n",
    "\n",
    "The first argument represents the 2 possible outcomes (heads and tails), the second is the chances of each occurring and the test is repeated 100 times. The histogram tells us that out of the 100 tests, it will land on heads about 54% of the times and tails 46%."
   ]
  },
  {
   "cell_type": "code",
   "execution_count": 16,
   "metadata": {},
   "outputs": [
    {
     "data": {
      "text/plain": [
       "array([0, 1, 1, 0, 0, 0, 1, 1, 0, 0, 0, 1, 1, 0, 0, 0, 0, 1, 1, 0, 0, 1,\n",
       "       0, 1, 1, 1, 0, 1, 0, 0, 0, 1, 1, 1, 1, 1, 0, 1, 0, 0, 0, 1, 0, 1,\n",
       "       0, 1, 0, 1, 0, 1, 1, 0, 0, 1, 0, 0, 0, 1, 0, 1, 0, 0, 1, 1, 1, 0,\n",
       "       0, 1, 0, 1, 0, 1, 0, 1, 1, 0, 1, 1, 1, 1, 1, 0, 1, 1, 1, 1, 0, 0,\n",
       "       1, 1, 0, 1, 1, 0, 0, 0, 1, 1, 1, 0])"
      ]
     },
     "execution_count": 16,
     "metadata": {},
     "output_type": "execute_result"
    }
   ],
   "source": [
    "np.random.binomial(1, .5, 100) "
   ]
  },
  {
   "cell_type": "code",
   "execution_count": 48,
   "metadata": {},
   "outputs": [
    {
     "data": {
      "image/png": "[encoded data removed]",
      "text/plain": [
       "<matplotlib.figure.Figure at 0x90e6550>"
      ]
     },
     "metadata": {},
     "output_type": "display_data"
    }
   ],
   "source": [
    "x = np.random.binomial(1, .5, 100)\n",
    "plt.hist(x)\n",
    "plt.show()"
   ]
  },
  {
   "cell_type": "markdown",
   "metadata": {},
   "source": [
    "---------------------------------------------------------------------------------------------------------------------------\n",
    "# 3.3. np.random.multinomial\n",
    "\n",
    "The difference between a binomial and a multinomial distribution, is that a binomial can have two outcomes, while a multinomial can have multiple outcomes. The most common example for a multinomial is that of rolling a dice where there are six possible outcomes. If you rolled a dice ten times to see how many times a four was rolled, then that would be a binomial experiment [9]. It is a discrete process in which fixed probabilities prevail for each independently generated value.\n",
    "\n",
    "## Multinominal applied\n",
    "\n",
    "This type of distribution is common in biological and geological applications [19]. \n",
    "\n",
    "## Multinomial distribution in action in Python\n",
    "\n",
    "In the example below, we are going to throw a dice 20, and perform this experiment 10 times to see how many times it lands on each of the six numbers on the dice. We can see that in the first 20 experiments the dice landed on **1** two times on **2** three times, landed on the second trial it landed on **2** zero times, etc, each row adds up to the 20 experiments. This does appear to be random as in some trials the dice did not land on one of the numbers and seven time on another.\n"
   ]
  },
  {
   "cell_type": "code",
   "execution_count": 8,
   "metadata": {},
   "outputs": [
    {
     "data": {
      "text/plain": [
       "array([[2, 3, 4, 6, 3, 2],\n",
       "       [2, 0, 2, 6, 8, 2],\n",
       "       [4, 2, 1, 3, 4, 6],\n",
       "       [4, 2, 4, 4, 4, 2],\n",
       "       [3, 2, 5, 2, 2, 6],\n",
       "       [1, 1, 3, 5, 4, 6],\n",
       "       [2, 2, 4, 5, 5, 2],\n",
       "       [3, 3, 2, 4, 5, 3],\n",
       "       [6, 6, 2, 0, 3, 3],\n",
       "       [4, 2, 3, 2, 6, 3]])"
      ]
     },
     "execution_count": 8,
     "metadata": {},
     "output_type": "execute_result"
    }
   ],
   "source": [
    "np.random.multinomial(20, [1/6]*6, size=10)"
   ]
  },
  {
   "cell_type": "markdown",
   "metadata": {},
   "source": [
    "-----------------------------------------------------------------------------------------------------------------------\n",
    "# 3.4. np.random.exponential\n",
    "\n",
    "The exponential distribution is one of the most widely used continuous distributions. It can be described as the time taken between two events occurring continuously and independently at a constant average rate [10]. This distribution has *memoryless* property, meaning that it 'forgets' what has preceded it, in other words, if you continue to wait, the length you wait, neither increases or decreases the probability of an event occurring [11].\n",
    "\n",
    "## **Exponential applied**\n",
    "\n",
    "The exponential distribution can be used for testing product reliability or for modelling waiting times i.e. how many patients will arrive into A&E department over a one hour or twenty-four period.\n",
    "\n",
    "The below image is an example of a simple exponential distribution graph.\n",
    "\n",
    "![](Expo.jpg)"
   ]
  },
  {
   "cell_type": "markdown",
   "metadata": {},
   "source": [
    "-----------------------------------------------------------------------------------------------------------------------\n",
    "# 3.5. np.random.poisson\n",
    "\n",
    "\n",
    "This distribution shows the likely number of times that an event will occur within a pre-determined period of time. It is used for independent events which occur at a constant rate within a given interval of time. It is a discrete function, meaning that the event can only be measured as occurring or not occurring, in other words, it can only be measured in whole numbers. [13]\n",
    "\n",
    "## **Poisson applied**\n",
    "\n",
    "This distribution can be applied when:\n",
    "\n",
    "1. The event is something that can be counted in integers\n",
    "1. Occurrences are independent, s that one occurrence neither diminishes nor increases the chance of another\n",
    "1. The average frequency of occurrence for the time period is known, and:\n",
    "1. It is possible to count how many events have occurred\n",
    "\n",
    "It is most commonly used for rare events [14].\n",
    "\n",
    "## Poisson distribution in action in Python\n",
    "\n",
    "The first argument to passed into the function is the expected interval, this should be an integer greater than 0. Next is the sample size. From the histogram below we can see that most of the occurrences are between 3-7.\n",
    " "
   ]
  },
  {
   "cell_type": "code",
   "execution_count": 42,
   "metadata": {},
   "outputs": [
    {
     "data": {
      "text/plain": [
       "array([ 7,  2,  6,  8,  3,  8,  8,  2,  9,  4,  3,  2,  5,  2,  1,  4,  4,\n",
       "        2, 10,  5,  5,  3,  7,  5,  6,  3,  9,  4,  1,  4,  7,  4,  4,  5,\n",
       "        2,  2,  5,  3,  2,  9,  4,  6,  3,  1,  6,  5,  4,  8,  1,  5,  7,\n",
       "        2,  7,  8,  7,  5, 11, 11,  6,  7,  0,  8,  5,  5,  5,  4,  4,  4,\n",
       "        1,  7,  1,  5,  5,  5,  3,  3,  3,  5,  4,  7,  6,  6,  5,  5,  6,\n",
       "        5,  6, 10,  4,  5,  5,  6,  5,  8,  6,  7,  8,  8,  6,  6])"
      ]
     },
     "execution_count": 42,
     "metadata": {},
     "output_type": "execute_result"
    }
   ],
   "source": [
    "np.random.poisson(5, 100)\n"
   ]
  },
  {
   "cell_type": "code",
   "execution_count": 44,
   "metadata": {},
   "outputs": [
    {
     "data": {
      "image/png": "[encoded data removed]",
      "text/plain": [
       "<matplotlib.figure.Figure at 0x9088b00>"
      ]
     },
     "metadata": {},
     "output_type": "display_data"
    }
   ],
   "source": [
    "x = np.random.poisson(5, 100)\n",
    "plt.hist(x)\n",
    "plt.show()"
   ]
  },
  {
   "cell_type": "markdown",
   "metadata": {
    "collapsed": true
   },
   "source": [
    "-----------------------------------------------------------------------------------------------------------------------\n",
    "\n",
    "# 3.6. np.random.normal\n",
    "\n",
    "The normal distribution has two parameters, the mean and the standard deviation. The normal distribution, should, provided the sample is large enough become normally distributed. This is a popular distribution, and has a peak around a certain value, and a few data points that lie outside the central cluster, the curve is also known as a bell shape [19].\n",
    "\n",
    "\n",
    "## **Normal distribution in action in python**\n",
    "\n",
    "First argument in the function is the mean of the distribution, next is the standard deviation of the distribution and finally the sample size. A review of the sample of 50 shows me what I would expect to see. Again, the histogram displays the bell shape that I would expect. Most of the sample of 1,000 numbers are centred around 10, with small clusters around the low end of 9.7 and the high end of 10.3"
   ]
  },
  {
   "cell_type": "code",
   "execution_count": 9,
   "metadata": {},
   "outputs": [
    {
     "data": {
      "text/plain": [
       "array([ 9.99911866, 10.00508835,  9.88004667, 10.07317575,  9.92078572,\n",
       "        9.74779983, 10.14312079,  9.87618154,  9.79349189,  9.95236205,\n",
       "       10.02708702, 10.10015107,  9.92927256,  9.85535287, 10.06908228,\n",
       "        9.95811095,  9.94318991,  9.97889552, 10.16905477,  9.96620926,\n",
       "        9.93517557,  9.99722603,  9.98205877,  9.93370339, 10.04877191,\n",
       "       10.04310154,  9.85565079,  9.91533644, 10.11983868,  9.96664712,\n",
       "       10.10398835, 10.28979459,  9.95260144,  9.90729206,  9.96209321,\n",
       "       10.06897153, 10.0391054 ,  9.95119881,  9.92360893, 10.04219664,\n",
       "       10.08454108,  9.90525908, 10.05411939,  9.97846813, 10.18099144,\n",
       "        9.97852374,  9.99471425, 10.06683533,  9.94019092, 10.1305643 ])"
      ]
     },
     "execution_count": 9,
     "metadata": {},
     "output_type": "execute_result"
    }
   ],
   "source": [
    "np.random.normal(10, 0.1, 50)"
   ]
  },
  {
   "cell_type": "code",
   "execution_count": 7,
   "metadata": {},
   "outputs": [
    {
     "data": {
      "image/png": "[encoded data removed]",
      "text/plain": [
       "<matplotlib.figure.Figure at 0x97084a8>"
      ]
     },
     "metadata": {},
     "output_type": "display_data"
    }
   ],
   "source": [
    "x = np.random.normal(10, 0.1, 1000)\n",
    "plt.hist(x)\n",
    "plt.show()"
   ]
  },
  {
   "cell_type": "markdown",
   "metadata": {},
   "source": [
    "# 3.7. np.random.uniform\n",
    "\n",
    "The uniform distribution is a continuous probability and is concerned with events that are equally likely to occur [20]. Samples will be uniformly distributed, and this will be clear from the histogram below. With the uniform distribution, all values over an interval [a, b) are equally likely to occur [21].\n",
    "\n",
    "## Uniform distribution applied\n",
    "\n",
    "The uniform distribution gets its name from the fact that the probabilities for all outcomes are equally likely to occur. Since each outcome has the same chance of occurrence the shape is usually in the shape of a rectangle.\n",
    "\n",
    "\n",
    "## **Uniform distribution in action in Python**\n",
    "\n",
    "The first argument of the function relates to the lower boundary of the sample and the second argument reflects the higher boundary the final argument relates to the sample size. Again, both outputs are what I would expect to see for a uniform distribution. The histogram is uniform with each value in trial selected between 970 and just over 1,000 times.\n"
   ]
  },
  {
   "cell_type": "code",
   "execution_count": 43,
   "metadata": {},
   "outputs": [
    {
     "data": {
      "text/plain": [
       "array([7.25167016, 5.38120875, 8.31730291, 9.39828056, 7.2457387 ,\n",
       "       8.15840024, 8.20357611, 8.94589225, 6.81222899, 6.01078505,\n",
       "       9.90114427, 7.66853554, 6.368876  , 8.04270776, 6.77908007,\n",
       "       7.63018667, 8.87527411, 9.99682247, 6.37215058, 6.77229791])"
      ]
     },
     "execution_count": 43,
     "metadata": {},
     "output_type": "execute_result"
    }
   ],
   "source": [
    "np.random.uniform(5,10,20)"
   ]
  },
  {
   "cell_type": "code",
   "execution_count": 44,
   "metadata": {},
   "outputs": [
    {
     "data": {
      "image/png": "[encoded data removed]",
      "text/plain": [
       "<matplotlib.figure.Figure at 0xb151780>"
      ]
     },
     "metadata": {},
     "output_type": "display_data"
    }
   ],
   "source": [
    "x = np.random.uniform(5,10,10000)\n",
    "plt.hist(x)\n",
    "plt.show()"
   ]
  },
  {
   "cell_type": "markdown",
   "metadata": {
    "collapsed": true
   },
   "source": [
    "------------------------------------------------------------------------------------------------------------------------------------------------------------------------------------------------------------------------------------------------------\n",
    "# 4. Seeds and Pseudorandom numbers\n",
    "\n",
    "Computers are unable to generate completely 'random' numbers, to deal with this, computers generate pseudorandom numbers, these are numbers that look random. If you know the seed, you can predict the next number that will be generated. The choice of a good random seed is critical in the field of computer security. When an encryption key is pseudo randomly generated, having the seed would allow someone to obtain the key [26]. Random seeds are often generated from the state of the computer system, such as the time.\n"
   ]
  },
  {
   "cell_type": "code",
   "execution_count": null,
   "metadata": {},
   "outputs": [],
   "source": []
  }
 ],
 "metadata": {
  "kernelspec": {
   "display_name": "Python 3",
   "language": "python",
   "name": "python3"
  },
  "language_info": {
   "codemirror_mode": {
    "name": "ipython",
    "version": 3
   },
   "file_extension": ".py",
   "mimetype": "text/x-python",
   "name": "python",
   "nbconvert_exporter": "python",
   "pygments_lexer": "ipython3",
   "version": "3.6.6"
  }
 },
 "nbformat": 4,
 "nbformat_minor": 2
}
