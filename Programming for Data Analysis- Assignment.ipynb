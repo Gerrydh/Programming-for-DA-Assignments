{
 "cells": [
  {
   "cell_type": "markdown",
   "metadata": {},
   "source": [
    "# A Review of the Numpy.Random Package in Python\n",
    "\n",
    "from IPython.display import HTML, display\n",
    "display(HTML(\"<table><tr><td><img src=\"Numpy.png\" Width=\"600\"></td><td><img src=\"Python.png\" Width=\"350\"></td></tr></table></td><td>\"))"
   ]
  },
  {
   "cell_type": "markdown",
   "metadata": {},
   "source": [
    "# What is Numpy"
   ]
  },
  {
   "cell_type": "markdown",
   "metadata": {},
   "source": [
    "Numpy is and acronym for \"numerical Python\" and is a really important package as a lot of other packages depend on it. Numpy and Scipy work really well in Python. Scipy provies the basic numeric optimisation routines. Pandas lets us load and work with our dataset efficiently [1].\n",
    "It is an open source extension model and provides speedy precompiled abilities to logical and numerical calendars and data structures that are capable of estimation of multi-dimensional arrays (N-dimensional) and grids [2]. This is a fixed-sized array in memory that contains data of the same type, such as integers or floating point values (real numbers). The Data type supported by an array can be accessed via the 'dtype' attribute on the array. The dimensions of an array can be accessed via the 'shape' attribute that returns a tuple (a list that cannot be changed) [3]. Numpy provides the following- amongst other things [4]:\n",
    "\n",
    "1. Fast and efficient multidimensional array object ndarray\n",
    "1. Functions for performing element-wise computations with arrays or mathematical operations between arrays\n",
    "1. Tools for reading and writting array-based dataset to disks\n",
    "1. Tools for integrating connecting C, C++ code to Python\n",
    "\n",
    "Scipy is a collection of mathematical algorithims and functions built on the Numpy extension of python. It adds significant power to the interactive Python session by providing the user "
   ]
  },
  {
   "cell_type": "code",
   "execution_count": null,
   "metadata": {},
   "outputs": [],
   "source": []
  }
 ],
 "metadata": {
  "kernelspec": {
   "display_name": "Python 3",
   "language": "python",
   "name": "python3"
  },
  "language_info": {
   "codemirror_mode": {
    "name": "ipython",
    "version": 3
   },
   "file_extension": ".py",
   "mimetype": "text/x-python",
   "name": "python",
   "nbconvert_exporter": "python",
   "pygments_lexer": "ipython3",
   "version": "3.6.6"
  }
 },
 "nbformat": 4,
 "nbformat_minor": 2
}
