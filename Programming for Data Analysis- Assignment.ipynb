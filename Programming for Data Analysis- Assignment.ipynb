{
 "cells": [
  {
   "cell_type": "markdown",
   "metadata": {},
   "source": [
    "# A Review of the Numpy.Random Package in Python\n",
    "\n",
    "from IPython.display import HTML, display\n",
    "display(HTML(\"<table><tr><td><img src=\"Numpy.png\" Width=\"600\"></td><td><img src=\"Python.png\" Width=\"350\"></td></tr></table></td><td>\"))"
   ]
  },
  {
   "cell_type": "markdown",
   "metadata": {},
   "source": [
    "# What is Numpy"
   ]
  },
  {
   "cell_type": "markdown",
   "metadata": {},
   "source": [
    "Numpy is and acronym for \"numerical Python\" and is a really important package as a lot of other packages depend on it. Numpy and Scipy work really well in Python. Scipy provies the basic numeric optimisation routines. Pandas lets us load and work with our dataset efficiently [1].\n",
    "It is an open source extension model and provides speedy precompiled abilities to logical and numerical calendars and data structures that are capable of estimation of multi-dimensional arrays (N-dimensional) and grids [2]. This is a fixed-sized array in memory that contains data of the same type, such as integers or floating point values (real numbers). The Data type supported by an array can be accessed via the 'dtype' attribute on the array. The dimensions of an array can be accessed via the 'shape' attribute that returns a tuple (a list that cannot be changed) [3]. Numpy provides the following- amongst other things [4]:\n",
    "\n",
    "1. Fast and efficient multidimensional array object ndarray\n",
    "1. Functions for performing element-wise computations with arrays or mathematical operations between arrays\n",
    "1. Tools for reading and writting array-based dataset to disks\n",
    "1. Tools for integrating connecting C, C++ code to Python\n",
    "\n",
    "Scipy is a collection of mathematical algorithims and functions built on the Numpy extension of python. It adds significant power to the interactive Python session by providing the user "
   ]
  },
  {
   "cell_type": "code",
   "execution_count": 1,
   "metadata": {
    "collapsed": true
   },
   "outputs": [],
   "source": [
    "import numpy as np"
   ]
  },
  {
   "cell_type": "code",
   "execution_count": 2,
   "metadata": {
    "collapsed": true
   },
   "outputs": [],
   "source": [
    "import matplotlib.pyplot as plt"
   ]
  },
  {
   "cell_type": "markdown",
   "metadata": {},
   "source": [
    "---------------------------------------------------------------------------------------------------------------------------\n",
    "# 1. np.random.randint\n",
    "\n",
    "The random.randit function returns random integers (whole numbers). The integer parameters must first be high to low, meaning the range of random integers you want returned needs to have the lowest integer first and the highest integer second, if it is the other way around the function will return an error. The size element of the function relates to the number of random integers that should be returned. \n",
    "\n",
    "In the code below, I have asked the randint function to return 25 random whole numbers between 10 and 999. \n",
    "\n",
    "The second snippit of code returned the same number random of integers, but becuase I asked for the random numbers to be between 0 and 1, it has returned the integers 0 and 1 twenty five times."
   ]
  },
  {
   "cell_type": "code",
   "execution_count": 3,
   "metadata": {},
   "outputs": [
    {
     "data": {
      "text/plain": [
       "array([[[941, 399, 567, 414, 910]],\n",
       "\n",
       "       [[316, 308,  17, 786,  17]],\n",
       "\n",
       "       [[706, 533, 949, 238,  11]],\n",
       "\n",
       "       [[ 14, 815, 155, 770, 521]],\n",
       "\n",
       "       [[287, 980, 924,  69, 173]]])"
      ]
     },
     "execution_count": 3,
     "metadata": {},
     "output_type": "execute_result"
    }
   ],
   "source": [
    "np.random.randint(10, 1000, size=(5,1,5))"
   ]
  },
  {
   "cell_type": "code",
   "execution_count": 4,
   "metadata": {},
   "outputs": [
    {
     "data": {
      "text/plain": [
       "array([[[1, 0, 0, 0, 0]],\n",
       "\n",
       "       [[0, 1, 0, 1, 0]],\n",
       "\n",
       "       [[1, 1, 0, 0, 1]],\n",
       "\n",
       "       [[1, 1, 0, 1, 1]],\n",
       "\n",
       "       [[1, 0, 0, 0, 0]]])"
      ]
     },
     "execution_count": 4,
     "metadata": {},
     "output_type": "execute_result"
    }
   ],
   "source": [
    "np.random.randint(0, 2, size=(5,1,5))"
   ]
  },
  {
   "cell_type": "markdown",
   "metadata": {},
   "source": [
    "### Randint Histogram\n",
    "The below code and histogram shows the number of times that an integer was randomly selected. The *X* axis is the integer from 0 - 999, and the *Y* axis is the number of time the integer was selected."
   ]
  },
  {
   "cell_type": "code",
   "execution_count": 43,
   "metadata": {},
   "outputs": [
    {
     "data": {
      "image/png": "[encoded data removed]",
      "text/plain": [
       "<Figure size 432x288 with 1 Axes>"
      ]
     },
     "metadata": {
      "needs_background": "light"
     },
     "output_type": "display_data"
    }
   ],
   "source": [
    "x = np.random.randint(0, 1000, size=(1000))\n",
    "plt.hist(x)\n",
    "plt.show()"
   ]
  },
  {
   "cell_type": "markdown",
   "metadata": {},
   "source": [
    "___________________________________________________________________________________________________________________________\n",
    "# 2. np.random.binomial\n",
    "\n",
    "A binomial random variable is the number of successes *x* in *n* repeated trials. The probability distribution of a binomial random variable is a **binomial distribution** [16]. A binomial experiment can have two possible outcomes. Samples are drawn from a distribution with specified parameters, *n* trials and *p* probability of success where *n* is an integer greater than 0 and *p* is in the interval [0,1] [17]. \n",
    "\n",
    "## **Binomial applied**\n",
    "\n",
    "The binomial distribution has a very wide application, mainly because at its core it is a binary situation- one with two possible outcomes. Many random situations worth studying have two outcomes [18]. It can be applied to any experiment where you want to identify the number of successes in a fixed number of independent trials, with the fixed probability of success on each trial.\n",
    "\n",
    "## **Binomial distribution in action in Python**\n",
    "\n",
    "The first argument represents the 2 possible outcomes (heads and tails), the second is the chances of each occurring and the test is repreated 100 times. The histogram tells us that out of the 100 tests, it will land on heads about 54% of the times and tails 46%"
   ]
  },
  {
   "cell_type": "code",
   "execution_count": 16,
   "metadata": {},
   "outputs": [
    {
     "data": {
      "text/plain": [
       "array([0, 1, 1, 0, 0, 0, 1, 1, 0, 0, 0, 1, 1, 0, 0, 0, 0, 1, 1, 0, 0, 1,\n",
       "       0, 1, 1, 1, 0, 1, 0, 0, 0, 1, 1, 1, 1, 1, 0, 1, 0, 0, 0, 1, 0, 1,\n",
       "       0, 1, 0, 1, 0, 1, 1, 0, 0, 1, 0, 0, 0, 1, 0, 1, 0, 0, 1, 1, 1, 0,\n",
       "       0, 1, 0, 1, 0, 1, 0, 1, 1, 0, 1, 1, 1, 1, 1, 0, 1, 1, 1, 1, 0, 0,\n",
       "       1, 1, 0, 1, 1, 0, 0, 0, 1, 1, 1, 0])"
      ]
     },
     "execution_count": 16,
     "metadata": {},
     "output_type": "execute_result"
    }
   ],
   "source": [
    "np.random.binomial(1, .5, 100) "
   ]
  },
  {
   "cell_type": "code",
   "execution_count": 48,
   "metadata": {},
   "outputs": [
    {
     "data": {
      "image/png": "[encoded data removed]",
      "text/plain": [
       "<matplotlib.figure.Figure at 0x90e6550>"
      ]
     },
     "metadata": {},
     "output_type": "display_data"
    }
   ],
   "source": [
    "x = np.random.binomial(1, .5, 100)\n",
    "plt.hist(x)\n",
    "plt.show()"
   ]
  },
  {
   "cell_type": "markdown",
   "metadata": {},
   "source": [
    "---------------------------------------------------------------------------------------------------------------------------\n",
    "# 3. np.random.multinomial\n",
    "\n",
    "The difference between a binomial and a multinomial distribution, is that a binomial can have two outcomes, while a multinomial can have multiple outcomes. The most common example for a multinomial is that of rolling a dice where there are six possible outcomes. If you rolled a dice ten times to see how many times a four was rolled, then that would be a binomial experiment [9]. It is a descrete process in which fixed probabilities prevail for each independently generated value.\n",
    "\n",
    "## Multinominal applied\n",
    "\n",
    "This type of distribution is common in biological and geological applications [19]. \n",
    "\n",
    "## Multinomial distribution in action in Python\n",
    "\n",
    "In the example below we are going to throw a dice 20, and perform this experiment 10 times to see how many times it lands on each of the six numbers on the dice. We can see that in the first 20 experiments the dice landed on **1** three times on **2** four times, landed on **5** zero times, etc, each row adds up to the 20 experiments. This does appear to be random as in some trials the dice did not land on one of the numbers and seven time on another.\n"
   ]
  },
  {
   "cell_type": "code",
   "execution_count": 4,
   "metadata": {},
   "outputs": [
    {
     "data": {
      "text/plain": [
       "array([[3, 4, 5, 3, 0, 5],\n",
       "       [4, 3, 4, 5, 2, 2],\n",
       "       [1, 5, 6, 1, 4, 3],\n",
       "       [4, 4, 4, 1, 6, 1],\n",
       "       [4, 4, 1, 2, 6, 3],\n",
       "       [1, 5, 1, 3, 6, 4],\n",
       "       [3, 2, 3, 5, 3, 4],\n",
       "       [8, 1, 2, 3, 2, 4],\n",
       "       [4, 5, 1, 4, 3, 3],\n",
       "       [2, 2, 5, 0, 7, 4]])"
      ]
     },
     "execution_count": 4,
     "metadata": {},
     "output_type": "execute_result"
    }
   ],
   "source": [
    "np.random.multinomial(20, [1/6]*6, size=10)\n"
   ]
  },
  {
   "cell_type": "markdown",
   "metadata": {},
   "source": [
    "-----------------------------------------------------------------------------------------------------------------------\n",
    "# 4. np.random.exponential\n",
    "\n",
    "The exponential distribution is one of the most widely used continuous distributions. It can be described as the time taken between two events occuring continuously and independently at a constant average rate [10]. This distribution has *memoryless* property, meaning that it 'forgets' what has preceeded it, in other words, if you continue to wait, the length you wait, neither increases or decreases the probability of an event occuring [11].\n",
    "\n",
    "## **Exponential applied**\n",
    "\n",
    "The exponential distribution can be used for testing product reliability or for modelling waiting times i.e. how many paitents will arrive into A&E department over a one hour or twenty four period.\n",
    "\n",
    "The below image is an example of a simple exponential distribution graph.\n",
    "\n",
    "![alt text](Expo Simp Graph.png)"
   ]
  },
  {
   "cell_type": "markdown",
   "metadata": {},
   "source": [
    "-----------------------------------------------------------------------------------------------------------------------\n",
    "# 5. np.random.poisson\n",
    "\n",
    "\n",
    "This distribution shows the likely number of times that an event will occur within a pre-determined period of time. It is used for independent events which occur at a constant rate within a given interval of time. It is a discrete function, meaning that the event can only be measured as occurring or not occurring, in other words, it can only be measured in whole numbers. [13]\n",
    "\n",
    "## **Poisson applied**\n",
    "\n",
    "This distribution can be applies when:\n",
    "\n",
    "1. The event is something that can be counted in integers\n",
    "1. Occurrences are independent, s that one occurrence neither deminishes nor increases the chance of another\n",
    "1. The average frequency of occurrance for the time period is known, and:\n",
    "1. It is possible to count how many events have occured\n",
    "\n",
    "It is most commenly used for rare events [14].\n",
    "\n",
    "## Poisson distribution in action in Python\n",
    "\n",
    "The first argument to passed into the function is the expected interval, this should be an integer greater than 0. Next is the sample size"
   ]
  },
  {
   "cell_type": "code",
   "execution_count": 42,
   "metadata": {},
   "outputs": [
    {
     "data": {
      "text/plain": [
       "array([ 7,  2,  6,  8,  3,  8,  8,  2,  9,  4,  3,  2,  5,  2,  1,  4,  4,\n",
       "        2, 10,  5,  5,  3,  7,  5,  6,  3,  9,  4,  1,  4,  7,  4,  4,  5,\n",
       "        2,  2,  5,  3,  2,  9,  4,  6,  3,  1,  6,  5,  4,  8,  1,  5,  7,\n",
       "        2,  7,  8,  7,  5, 11, 11,  6,  7,  0,  8,  5,  5,  5,  4,  4,  4,\n",
       "        1,  7,  1,  5,  5,  5,  3,  3,  3,  5,  4,  7,  6,  6,  5,  5,  6,\n",
       "        5,  6, 10,  4,  5,  5,  6,  5,  8,  6,  7,  8,  8,  6,  6])"
      ]
     },
     "execution_count": 42,
     "metadata": {},
     "output_type": "execute_result"
    }
   ],
   "source": [
    "np.random.poisson(5, 100)\n"
   ]
  },
  {
   "cell_type": "code",
   "execution_count": 44,
   "metadata": {},
   "outputs": [
    {
     "data": {
      "image/png": "[encoded data removed]",
      "text/plain": [
       "<matplotlib.figure.Figure at 0x9088b00>"
      ]
     },
     "metadata": {},
     "output_type": "display_data"
    }
   ],
   "source": [
    "x = np.random.poisson(5, 100)\n",
    "plt.hist(x)\n",
    "plt.show()"
   ]
  },
  {
   "cell_type": "code",
   "execution_count": null,
   "metadata": {
    "collapsed": true
   },
   "outputs": [],
   "source": []
  }
 ],
 "metadata": {
  "kernelspec": {
   "display_name": "Python 3",
   "language": "python",
   "name": "python3"
  },
  "language_info": {
   "codemirror_mode": {
    "name": "ipython",
    "version": 3
   },
   "file_extension": ".py",
   "mimetype": "text/x-python",
   "name": "python",
   "nbconvert_exporter": "python",
   "pygments_lexer": "ipython3",
   "version": "3.6.3"
  }
 },
 "nbformat": 4,
 "nbformat_minor": 2
}
